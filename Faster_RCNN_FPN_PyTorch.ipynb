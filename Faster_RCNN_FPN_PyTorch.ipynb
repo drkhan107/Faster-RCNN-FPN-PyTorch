{
  "nbformat": 4,
  "nbformat_minor": 0,
  "metadata": {
    "colab": {
      "provenance": []
    },
    "kernelspec": {
      "name": "python3",
      "display_name": "Python 3"
    },
    "language_info": {
      "name": "python"
    },
    "accelerator": "GPU",
    "gpuClass": "standard"
  },
  "cells": [
    {
      "cell_type": "code",
      "execution_count": null,
      "metadata": {
        "id": "C_fsxjbF6hIk"
      },
      "outputs": [],
      "source": [
        "!curl -L \"https://app.roboflow.com/ds/oKwUZJgz7l?key=FKjM7z0YAw\" > roboflow.zip; unzip roboflow.zip; rm roboflow.zip\n"
      ]
    },
    {
      "cell_type": "code",
      "source": [
        "TRAIN_DIR_IMAGES = '/content/train'\n",
        "TRAIN_DIR_LABELS = '/content/train'\n",
        "VALID_DIR_IMAGES = '/content/valid'\n",
        "VALID_DIR_LABELS = '/content/valid'\n"
      ],
      "metadata": {
        "id": "5hy-HHuYV94H"
      },
      "execution_count": 12,
      "outputs": []
    },
    {
      "cell_type": "code",
      "source": [
        "%cd /content/FasterRCNN\n",
        "!python train.py"
      ],
      "metadata": {
        "id": "lk5vs4OMUVqD"
      },
      "execution_count": null,
      "outputs": []
    }
  ]
}